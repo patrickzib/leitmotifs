{
 "cells": [
  {
   "cell_type": "code",
   "execution_count": 41,
   "id": "7a6b35cf-2f39-4921-830c-5ce06e802164",
   "metadata": {},
   "source": [
    "%load_ext autoreload\n",
    "%autoreload 2\n",
    "\n",
    "import sys\n",
    "sys.path.insert(0, \"../\")\n",
    "\n",
    "from leitmotifs.lama import *\n",
    "\n",
    "import pandas as pd\n",
    "import seaborn as sns\n",
    "\n",
    "import matplotlib\n",
    "from matplotlib import pyplot as plt\n",
    "matplotlib.rcParams['pdf.fonttype'] = 42\n",
    "matplotlib.rcParams['ps.fonttype'] = 42\n",
    "%matplotlib inline\n",
    "%config InlineBackend.figure_formats = {'png', 'retina'}\n",
    "\n",
    "import warnings\n",
    "warnings.simplefilter(\"ignore\")"
   ],
   "outputs": []
  },
  {
   "cell_type": "code",
   "execution_count": 52,
   "id": "50370b0d-13f2-423a-8831-169dcbe63e42",
   "metadata": {},
   "source": [
    "df1 = pd.read_csv(\"../tests/results/motion_precision.csv\", index_col=0)\n",
    "df2 = pd.read_csv(\"../tests/results/birdsounds_precision.csv\", index_col=0)\n",
    "df3 = pd.read_csv(\"../tests/results/soundtracks_precision.csv\", index_col=0)\n",
    "df4 = pd.read_csv(\"../tests/results/audio_precision.csv\", index_col=0)\n",
    "df = pd.concat([df1, df2, df3, df4])\n",
    "df.reset_index(inplace=True, drop=True)\n",
    "df.drop(df[df.Method == \"LAMA (naive)\"].index, inplace=True)\n",
    "df"
   ],
   "outputs": []
  },
  {
   "cell_type": "code",
   "execution_count": 53,
   "id": "8d416483-cb92-46cf-adce-d12c99887cf0",
   "metadata": {},
   "source": [
    "df.Method[df.Method == \"K-Motifs (TOP-N)\"] = \"K-Motifs (TOP-f dims)\"\n",
    "df.Method[df.Method == \"K-Motifs (all)\"] = \"K-Motifs (all dims)\"\n",
    "\n",
    "fig, ax = plt.subplots(figsize=(4,3))\n",
    "sns.barplot(x=df.Method, y=df.Precision, ax=ax, \n",
    "            order=df[[\"Method\", \"Precision\"]].groupby(\"Method\").mean().sort_values(by=\"Precision\", ascending=False).reset_index()[\"Method\"])\n",
    "ax.set_title(\"Precision by Method\", fontsize=14)\n",
    "plt.yticks(fontsize=10)\n",
    "plt.xticks(rotation=-20, fontsize=10, ha='left')\n",
    "plt.xlabel(\"\")\n",
    "sns.despine()\n",
    "plt.tight_layout()\n",
    "plt.savefig(\"../tests/results/images/barplot_precision.pdf\")"
   ],
   "outputs": []
  },
  {
   "cell_type": "code",
   "execution_count": 54,
   "id": "4ae5ddaf-90f9-4e9e-b8f8-d5f20342382b",
   "metadata": {},
   "source": [
    "fig, ax = plt.subplots(figsize=(4,3))\n",
    "sns.barplot(x=df.Method, y=df.Recall, ax=ax, \n",
    "            order=df[[\"Method\", \"Recall\"]].groupby(\"Method\").mean().sort_values(by=\"Recall\", ascending=False).reset_index()[\"Method\"])\n",
    "ax.set_title(\"Recall by Method\", fontsize=14)\n",
    "plt.yticks(fontsize=10)\n",
    "plt.xticks(rotation=-20, fontsize=10, ha='left')\n",
    "plt.xlabel(\"\")\n",
    "sns.despine()\n",
    "plt.tight_layout()\n",
    "plt.savefig(\"../tests/results/images/barplot_recall.pdf\")"
   ],
   "outputs": []
  },
  {
   "cell_type": "code",
   "execution_count": 45,
   "id": "499e076e-76a0-4fd5-b02f-5a05357f6fbd",
   "metadata": {},
   "source": [
    "print(df.groupby(df.Method)[[\"Precision\", \"Recall\"]].agg([\"mean\", \"median\"]))"
   ],
   "outputs": []
  },
  {
   "cell_type": "code",
   "execution_count": 36,
   "id": "e2fc2331-3a42-41a7-bfcb-6d861b11b85a",
   "metadata": {},
   "source": [
    "print(df.groupby(df.Method)[[\"Precision\", \"Recall\"]].agg([\"mean\", \"median\"]).to_latex())"
   ],
   "outputs": []
  },
  {
   "cell_type": "code",
   "execution_count": 37,
   "id": "968bdcad-25ad-497c-8264-bb75d506f8c6",
   "metadata": {},
   "source": [
    "datasets = [\"common-starling-sturnus-vulgaris.csv\",\n",
    "\"Lord-of-the-Rings-Symphony-The-Shire.csv\",\n",
    "\"Star_Wars_The_Imperial_March_Theme_Song.csv\",\n",
    "\"The-Rolling-Stones-Paint-It-Black.csv\",\n",
    "\"Numb-Linkin-Park.csv\",\n",
    "\"Queen-David-Bowie-Under-Pressure.csv\",\n",
    "\"Vanilla_Ice-Ice_Ice_Baby.csv\",\n",
    "\"What-I-ve-Done-Linkin-Park.csv\"]"
   ],
   "outputs": []
  },
  {
   "cell_type": "code",
   "execution_count": 38,
   "id": "9beb4750-3300-479f-8370-72fcc3ad5659",
   "metadata": {},
   "source": [
    "for d in datasets:\n",
    "    df2 = pd.read_csv(\"../datasets/audio/\"+d, index_col=0, compression='gzip')\n",
    "    print(d, df2.shape)"
   ],
   "outputs": []
  },
  {
   "cell_type": "code",
   "execution_count": 39,
   "id": "33a9118d-9ce8-41b9-aa12-7deed9be2bda",
   "metadata": {},
   "source": [
    "df[(\"LAMA\" == df.Method) | (\"LAMA (naive)\" == df.Method)]"
   ],
   "outputs": []
  },
  {
   "cell_type": "code",
   "execution_count": 40,
   "id": "0b885759-7fa8-4409-811c-909f4692075c",
   "metadata": {},
   "source": [
    "df[(\"LAMA\" == df.Method) | (\"LAMA (naive)\" == df.Method)]"
   ],
   "outputs": []
  },
  {
   "cell_type": "code",
   "execution_count": null,
   "id": "4ae27071-3ed1-4000-81e6-9624e6dc0d8c",
   "metadata": {},
   "source": [],
   "outputs": []
  }
 ],
 "metadata": {
  "kernelspec": {
   "display_name": "Python 3 (ipykernel)",
   "language": "python",
   "name": "python3"
  },
  "language_info": {
   "codemirror_mode": {
    "name": "ipython",
    "version": 3
   },
   "file_extension": ".py",
   "mimetype": "text/x-python",
   "name": "python",
   "nbconvert_exporter": "python",
   "pygments_lexer": "ipython3",
   "version": "3.10.13"
  }
 },
 "nbformat": 4,
 "nbformat_minor": 5
}
