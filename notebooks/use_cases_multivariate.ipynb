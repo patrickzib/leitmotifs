{
 "cells": [
  {
   "cell_type": "code",
   "execution_count": 9,
   "id": "ff7b7ab5",
   "metadata": {},
   "outputs": [
    {
     "name": "stderr",
     "output_type": "stream",
     "text": [
      "<frozen importlib._bootstrap>:219: RuntimeWarning: scipy._lib.messagestream.MessageStream size changed, may indicate binary incompatibility. Expected 56 from C header, got 64 from PyObject\n"
     ]
    }
   ],
   "source": [
    "%load_ext autoreload\n",
    "%autoreload 2\n",
    "\n",
    "import sys\n",
    "sys.path.insert(0, \"../\")\n",
    "\n",
    "import scipy.io as sio\n",
    "from motiflets.plotting import *\n",
    "import matplotlib as mpl\n",
    "\n",
    "from ipywidgets import interact, interactive, fixed, interact_manual\n",
    "import ipywidgets as widgets\n",
    "\n",
    "\n",
    "matplotlib.rcParams['pdf.fonttype'] = 42\n",
    "matplotlib.rcParams['ps.fonttype'] = 42\n",
    "%matplotlib inline\n",
    "%config InlineBackend.figure_formats = {'png', 'retina'}\n",
    "\n",
    "import warnings\n",
    "warnings.simplefilter(\"ignore\")\n",
    "\n",
    "path = \"../../motiflets_use_cases/chains/\""
   ]
  },
  {
   "cell_type": "code",
   "execution_count": 17,
   "id": "81dc3c18",
   "metadata": {},
   "outputs": [],
   "source": [
    "def read_penguin_data():\n",
    "    series = pd.read_csv(path + \"penguin.txt\", \n",
    "                         names=([\"X-Acc\", \"Y-Acc\", \"Z-Acc\",\n",
    "                                 \"4\", \"5\", \"6\",\n",
    "                                 \"7\", \"Pressure\", \"9\"]),\n",
    "                         delimiter=\"\\t\", header=None)\n",
    "    ds_name = \"Penguins (Longer Snippet)\"\n",
    "    return ds_name, series\n",
    "\n",
    "\n",
    "def read_penguin_data_short():\n",
    "    test = sio.loadmat(path + 'penguinshort.mat')\n",
    "    series = pd.DataFrame(test[\"penguinshort\"]).T\n",
    "    ds_name = \"Penguins (Snippet)\"\n",
    "    return ds_name, series\n",
    "\n",
    "\n",
    "def test_plot_data():\n",
    "    ds_name, series = read_penguin_data()\n",
    "    series = series.iloc[497699 - 5000: 497699 + 5000, np.array([0, 7])].T\n",
    "\n",
    "    ml = Motiflets(ds_name, series, elbow_deviation=1.25)\n",
    "    ml.plot_dataset()"
   ]
  },
  {
   "cell_type": "code",
   "execution_count": 18,
   "id": "b7703061",
   "metadata": {},
   "outputs": [
    {
     "ename": "TypeError",
     "evalue": "fit_motif_length() got an unexpected keyword argument 'plot_motifs_as_grid'",
     "output_type": "error",
     "traceback": [
      "\u001b[0;31m---------------------------------------------------------------------------\u001b[0m",
      "\u001b[0;31mTypeError\u001b[0m                                 Traceback (most recent call last)",
      "Cell \u001b[0;32mIn[18], line 13\u001b[0m\n\u001b[1;32m     10\u001b[0m k_max \u001b[38;5;241m=\u001b[39m \u001b[38;5;241m50\u001b[39m\n\u001b[1;32m     11\u001b[0m motif_length_range \u001b[38;5;241m=\u001b[39m np\u001b[38;5;241m.\u001b[39marange(\u001b[38;5;241m15\u001b[39m, \u001b[38;5;241m50\u001b[39m, \u001b[38;5;241m1\u001b[39m)\n\u001b[0;32m---> 13\u001b[0m _, all_minima \u001b[38;5;241m=\u001b[39m \u001b[43mml\u001b[49m\u001b[38;5;241;43m.\u001b[39;49m\u001b[43mfit_motif_length\u001b[49m\u001b[43m(\u001b[49m\n\u001b[1;32m     14\u001b[0m \u001b[43m    \u001b[49m\u001b[43mk_max\u001b[49m\u001b[43m,\u001b[49m\u001b[43m \u001b[49m\u001b[43mmotif_length_range\u001b[49m\u001b[43m,\u001b[49m\n\u001b[1;32m     15\u001b[0m \u001b[43m    \u001b[49m\u001b[43mplot_elbows\u001b[49m\u001b[38;5;241;43m=\u001b[39;49m\u001b[38;5;28;43;01mFalse\u001b[39;49;00m\u001b[43m,\u001b[49m\n\u001b[1;32m     16\u001b[0m \u001b[43m    \u001b[49m\u001b[43mplot_motifs_as_grid\u001b[49m\u001b[38;5;241;43m=\u001b[39;49m\u001b[38;5;28;43;01mFalse\u001b[39;49;00m\u001b[43m,\u001b[49m\n\u001b[1;32m     17\u001b[0m \u001b[43m    \u001b[49m\u001b[43mplot_best_only\u001b[49m\u001b[38;5;241;43m=\u001b[39;49m\u001b[38;5;28;43;01mTrue\u001b[39;49;00m\u001b[43m,\u001b[49m\n\u001b[1;32m     18\u001b[0m \u001b[43m    \u001b[49m\u001b[43msubsample\u001b[49m\u001b[38;5;241;43m=\u001b[39;49m\u001b[38;5;241;43m1\u001b[39;49m\u001b[43m)\u001b[49m\n\u001b[1;32m     20\u001b[0m \u001b[38;5;66;03m# fig, ax = ml.plot_motifset()\u001b[39;00m\n",
      "\u001b[0;31mTypeError\u001b[0m: fit_motif_length() got an unexpected keyword argument 'plot_motifs_as_grid'"
     ]
    }
   ],
   "source": [
    "ds_name, series = read_penguin_data_short()\n",
    "\n",
    "ml = Motiflets(\n",
    "    ds_name, series,\n",
    "    elbow_deviation=1,\n",
    "    slack=0.8\n",
    ")\n",
    "# ml.plot_dataset()\n",
    "\n",
    "k_max = 50\n",
    "motif_length_range = np.arange(15, 50, 1)\n",
    "\n",
    "_, all_minima = ml.fit_motif_length(\n",
    "    k_max, motif_length_range,\n",
    "    plot_elbows=False,\n",
    "    plot_motifs_as_grid=False,\n",
    "    plot_best_only=True,\n",
    "    subsample=1)\n",
    "\n",
    "# fig, ax = ml.plot_motifset()"
   ]
  },
  {
   "cell_type": "code",
   "execution_count": null,
   "id": "b6c50519",
   "metadata": {},
   "outputs": [],
   "source": [
    "@interact(motif_length = ml.motif_length_range[ml.all_extrema])\n",
    "def show(motif_length=ml.motif_length):\n",
    "    x = np.searchsorted(ml.all_extrema, motif_length)\n",
    "    motif_length = ml.motif_length_range[x]\n",
    "    candidates = np.zeros(len(ml.all_dists[x]), dtype=np.object)\n",
    "    candidates[ml.all_elbows[x]] = ml.all_top_motiflets[x]  # need to unpack\n",
    "    elbow_points = ml.all_elbows[x]\n",
    "\n",
    "    # _plot_elbow_points(\n",
    "    #    ml.ds_name, ml.data, motif_length, ml.all_elbows, candidates, ml.all_dists[x])\n",
    "\n",
    "    plot_grid_motiflets(\n",
    "        ml.ds_name, ml.series, \n",
    "        candidates, elbow_points,\n",
    "        ml.all_dists[x], motif_length, \n",
    "        show_elbows=True,\n",
    "        font_size=24,\n",
    "        ground_truth=ml.ground_truth,\n",
    "        dimension_labels=ml.dimension_labels)"
   ]
  },
  {
   "cell_type": "code",
   "execution_count": null,
   "id": "68ae907b",
   "metadata": {},
   "outputs": [],
   "source": [
    "motif_length = 21\n",
    "_ = ml.fit_k_elbow(\n",
    "    k_max,\n",
    "    motif_length=motif_length,  \n",
    "    filter_duplicates=True,\n",
    "    plot_elbows=True,\n",
    "    plot_motifs_as_grid=False,\n",
    ")"
   ]
  },
  {
   "cell_type": "code",
   "execution_count": null,
   "id": "7cd0f896",
   "metadata": {},
   "outputs": [],
   "source": [
    "@interact(k = widgets.IntSlider(min=2, max=k_max, step=1))\n",
    "def show_elbows(k=ml.elbow_points[-1]):\n",
    "    ml.plot_motifset(k)"
   ]
  },
  {
   "cell_type": "code",
   "execution_count": null,
   "id": "cdf80994",
   "metadata": {},
   "outputs": [],
   "source": []
  }
 ],
 "metadata": {
  "kernelspec": {
   "display_name": "Python 3 (ipykernel)",
   "language": "python",
   "name": "python3"
  },
  "language_info": {
   "codemirror_mode": {
    "name": "ipython",
    "version": 3
   },
   "file_extension": ".py",
   "mimetype": "text/x-python",
   "name": "python",
   "nbconvert_exporter": "python",
   "pygments_lexer": "ipython3",
   "version": "3.8.13"
  }
 },
 "nbformat": 4,
 "nbformat_minor": 5
}
