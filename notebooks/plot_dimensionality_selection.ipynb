{
 "cells": [
  {
   "cell_type": "code",
   "execution_count": 1,
   "id": "fde29663-590c-4328-aefc-f8e62524ef37",
   "metadata": {},
   "source": [
    "%load_ext autoreload\n",
    "%autoreload 2\n",
    "\n",
    "import sys\n",
    "sys.path.insert(0, \"../\")\n",
    "from leitmotifs.plotting import *\n",
    "\n",
    "matplotlib.rcParams['pdf.fonttype'] = 42\n",
    "matplotlib.rcParams['ps.fonttype'] = 42\n",
    "%matplotlib inline\n",
    "%config InlineBackend.figure_formats = {'png', 'retina'}\n",
    "\n",
    "import warnings\n",
    "warnings.simplefilter(\"ignore\")\n",
    "\n",
    "path = \"../datasets/experiments/\""
   ],
   "outputs": []
  },
  {
   "cell_type": "code",
   "execution_count": 458,
   "id": "2e152861-fd09-4203-a55e-aa0e33d41a43",
   "metadata": {},
   "source": [
    "def read_penguin_data():\n",
    "    series = pd.read_csv(path + \"penguin.txt\", \n",
    "                         names=([\"X-Acc\", \"Y-Acc\", \"Z-Acc\",\n",
    "                                 \"4\", \"5\", \"6\",\n",
    "                                 \"7\", \"Pressure\", \"9\"]),\n",
    "                         delimiter=\"\\t\", header=None)\n",
    "    ds_name = \"Penguins\"\n",
    "    return ds_name, series"
   ],
   "outputs": []
  },
  {
   "cell_type": "code",
   "execution_count": 678,
   "id": "e117b16c-5ab6-4e26-8d4b-94fc61942c2b",
   "metadata": {},
   "source": [
    "def plot_data(data, motifsets=None, motif_length=None, dists=None):\n",
    "    fig, axes = plt.subplots(1, 1, squeeze=False, figsize=(10, 5))\n",
    "    \n",
    "    data_index, data_raw = ml.pd_series_to_numpy(data)\n",
    "    \n",
    "    offset = 0\n",
    "    tick_offsets = []\n",
    "    axes[0, 0].set_title(ds_name, fontsize=20)\n",
    "    \n",
    "    for dim in range(data_raw.shape[0]):\n",
    "        dim_data_raw = zscore(data_raw[dim])\n",
    "        offset -= 3*(np.max(dim_data_raw) - np.min(dim_data_raw))\n",
    "        tick_offsets.append(offset)\n",
    "    \n",
    "        _ = sns.lineplot(x=data_index,\n",
    "                         y=dim_data_raw + offset,\n",
    "                         ax=axes[0, 0],\n",
    "                         linewidth=1,\n",
    "                         color=sns.color_palette(\"tab10\")[0],\n",
    "                         )\n",
    "        sns.despine()\n",
    "        \n",
    "        if motifsets is not None:\n",
    "            pos = motifsets[dim, 0]\n",
    "            x1, y1 = (np.mean(data_index[np.arange(pos, pos + motif_length)]), \n",
    "                     np.max(dim_data_raw[pos:pos + motif_length]) + offset)\n",
    "\n",
    "        \n",
    "            for a, pos in enumerate(motifsets[dim]):\n",
    "                _ = sns.lineplot(ax=axes[0, 0],\n",
    "                                 x=data_index[\n",
    "                                     np.arange(pos, pos + motif_length)],\n",
    "                                 y=dim_data_raw[\n",
    "                                   pos:pos + motif_length] + offset,\n",
    "                                 linewidth=2,\n",
    "                                 color=sns.color_palette(\"tab10\")[a+1],\n",
    "                                 ci=None,\n",
    "                                 legend=True,\n",
    "                                 estimator=None)\n",
    "\n",
    "                #if (a == 1) or (a == len(motifsets[dim])-1):\n",
    "                #    order = np.argsort(dists[:, motifsets[:, a]].sum(axis=0))\n",
    "                #    axes[0, 0].annotate(str(1+order[dim]), # \".: {:.2f}\".format(dists[dim, pos])\n",
    "                #            xy=(np.mean(data_index[np.arange(pos, pos + motif_length)]), \n",
    "                #                np.max(dim_data_raw[pos:pos + motif_length]) + offset),\n",
    "                #            xytext=(0, 4),\n",
    "                #            textcoords='offset points',\n",
    "                #            ha='center', va='bottom')\n",
    "\n",
    "\n",
    "                x2, y2 = (np.mean(data_index[np.arange(pos, pos + motif_length)]), \n",
    "                        np.max(dim_data_raw[pos:pos + motif_length]) + offset)\n",
    "\n",
    "                if x2 > x1:\n",
    "                    connectionstyle=\"arc3, rad=0.2\"\n",
    "                else:\n",
    "                    connectionstyle=\"arc3, rad=-0.2\"\n",
    "\n",
    "                if a > 0:\n",
    "                    axes[0, 0].annotate(\"\", # str(a)+\"-NN\",\n",
    "                        xy=(x1, y1), xycoords='data',\n",
    "                        xytext=(x2, y2), textcoords='data',\n",
    "                        arrowprops=dict(arrowstyle=\"<-\", color=\"0.5\",\n",
    "                                        # shrinkA=0.15, shrinkB=0.15,\n",
    "                                        patchA=None, patchB=None,\n",
    "                                        connectionstyle=connectionstyle,\n",
    "                                        ),\n",
    "                        # bbox=dict(pad=0, facecolor=\"none\", edgecolor=\"none\")                                    \n",
    "                        )\n",
    "                \n",
    "    \n",
    "                    #axes[0, 0].annotate(str(a)+\"-NN\", # \".: {:.2f}\".format(dists[dim, pos])\n",
    "                    #        xy=(np.mean(data_index[np.arange(pos, pos + motif_length)]), \n",
    "                    #            np.min(dim_data_raw[pos:pos + motif_length]) + offset),\n",
    "                    #        xytext=(0, -10),\n",
    "                    #        textcoords='offset points',\n",
    "                    #        ha='center', va='bottom')\n",
    "                    \n",
    "\n",
    "    # plt.legend(title='NN', loc='upper right', labels=['1-NN', '2-NN'])\n",
    "    # plt.legend()\n",
    "    if isinstance(data, pd.DataFrame):\n",
    "        axes[0, 0].set_yticks(np.array(tick_offsets))\n",
    "        axes[0, 0].set_yticklabels(data.index, fontsize=12)\n",
    "\n",
    "    sns.despine()\n",
    "    fig.tight_layout()\n",
    "    return fig, axes\n",
    "    "
   ],
   "outputs": []
  },
  {
   "cell_type": "code",
   "execution_count": 679,
   "id": "2d4f0244-5899-478a-ac44-b12997e15e48",
   "metadata": {},
   "source": [
    "ds_name, series = read_penguin_data()\n",
    "series = series.iloc[497699 + 60: 497699 + 300, [0,1,2,7]].T\n",
    "plot_data(series)"
   ],
   "outputs": []
  },
  {
   "cell_type": "code",
   "execution_count": 680,
   "id": "5ca258f5-e70b-4b8d-8c35-9156cac2df1c",
   "metadata": {},
   "source": [
    "motif_length = 22\n",
    "D, knns = ml.compute_distance_matrix(series.values, motif_length, 3, sum_dims=False)"
   ],
   "outputs": []
  },
  {
   "cell_type": "code",
   "execution_count": 681,
   "id": "4e690d00-6e92-4f5d-8de9-6c9bbfffbac8",
   "metadata": {},
   "source": [
    "offset = 92\n",
    "fig, ax = plot_data(series, knns[:, offset, :], motif_length, D[:, offset, :])\n",
    "plt.savefig(\"images/choosing_dimension.pdf\")"
   ],
   "outputs": []
  },
  {
   "cell_type": "code",
   "execution_count": 677,
   "id": "d1ef6aa2-7959-41bf-b4ab-06861138186c",
   "metadata": {},
   "source": [
    "# np.argsort(D[:, offset, knns[:, offset, 3]].sum(axis=0))"
   ],
   "outputs": []
  },
  {
   "cell_type": "code",
   "execution_count": null,
   "id": "f9c7c2d8-9c4e-43d0-be55-76f03ec3e55d",
   "metadata": {},
   "source": [],
   "outputs": []
  },
  {
   "cell_type": "code",
   "execution_count": null,
   "id": "000d5fa1-4f42-4318-9102-85ff31631aa2",
   "metadata": {},
   "source": [],
   "outputs": []
  }
 ],
 "metadata": {
  "kernelspec": {
   "display_name": "Python 3 (ipykernel)",
   "language": "python",
   "name": "python3"
  },
  "language_info": {
   "codemirror_mode": {
    "name": "ipython",
    "version": 3
   },
   "file_extension": ".py",
   "mimetype": "text/x-python",
   "name": "python",
   "nbconvert_exporter": "python",
   "pygments_lexer": "ipython3",
   "version": "3.8.13"
  }
 },
 "nbformat": 4,
 "nbformat_minor": 5
}
